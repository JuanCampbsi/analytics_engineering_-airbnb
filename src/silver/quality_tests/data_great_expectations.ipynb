{
 "cells": [
  {
   "cell_type": "code",
   "execution_count": null,
   "metadata": {},
   "outputs": [],
   "source": [
    "import sys\n",
    "sys.path.append(\"../../..\")"
   ]
  },
  {
   "cell_type": "code",
   "execution_count": null,
   "metadata": {},
   "outputs": [],
   "source": [
    "import pandas as pd\n",
    "import great_expectations as gx\n",
    "from config.connect_db import ConnectDataBase\n",
    "from sqlalchemy import text as sql_text\n",
    "\n",
    "db = ConnectDataBase()\n",
    "engine = db.engine()"
   ]
  },
  {
   "cell_type": "code",
   "execution_count": null,
   "metadata": {},
   "outputs": [],
   "source": [
    "def query_table(params: str) -> str:\n",
    "    return f\"\"\"\n",
    "          SELECT * \n",
    "          FROM public.\"{params}\";\n",
    "         \"\"\""
   ]
  },
  {
   "cell_type": "markdown",
   "metadata": {},
   "source": [
    "Context\n"
   ]
  },
  {
   "cell_type": "code",
   "execution_count": null,
   "metadata": {},
   "outputs": [],
   "source": [
    "ctx_calendar_silver = gx.get_context() \n",
    "ctx_listing_silver = gx.get_context() \n",
    "ctx_reviews_silver = gx.get_context() "
   ]
  },
  {
   "cell_type": "code",
   "execution_count": null,
   "metadata": {},
   "outputs": [],
   "source": [
    "# validator_calendar_silver = ctx_calendar_silver.sources.pandas_default.read_sql(sql=sql_text(\n",
    "#     query_table(\"Calendar_Silver\")), con=engine.connect())\n",
    "\n",
    "# validator_listing_silver = ctx_listing_silver.sources.pandas_default.read_sql(sql=sql_text(\n",
    "#     query_table(\"Listing_Silver\")), con=engine.connect())\n",
    "\n",
    "# validator_reviews_silver = ctx_reviews_silver.sources.pandas_default.read_sql(sql=sql_text(\n",
    "#     query_table(\"Reviews_Silver\")), con=engine.connect())\n",
    "\n",
    "df_reviews_silver = pd.read_sql(sql=sql_text(\n",
    "    query_table(\"Reviews_Bronze\")), con=engine.connect())\n",
    "\n",
    "df_calendar_silver = pd.read_sql(sql=sql_text(\n",
    "    query_table(\"Calendar_Silver\")), con=engine.connect())\n",
    "\n",
    "df_listing_silver = pd.read_sql(sql=sql_text(\n",
    "    query_table(\"Listing_Silver\")), con=engine.connect())"
   ]
  },
  {
   "cell_type": "code",
   "execution_count": null,
   "metadata": {},
   "outputs": [],
   "source": [
    "df_calendar_silver.to_csv(\"raw/result_calendar_silver.csv\")\n",
    "df_listing_silver.to_csv(\"raw/result_listing_silver.csv\")\n",
    "df_reviews_silver.to_csv(\"raw/result_reviews_silver.csv\")"
   ]
  },
  {
   "cell_type": "code",
   "execution_count": null,
   "metadata": {},
   "outputs": [],
   "source": [
    "validator_calendar_silver = ctx_reviews_silver.sources.pandas_default.read_csv(\"raw/result_calendar_silver.csv\")\n",
    "validator_listing_silver = ctx_listing_silver.sources.pandas_default.read_csv(\"raw/result_listing_silver.csv\")\n",
    "validator_reviews_silver = ctx_reviews_silver.sources.pandas_default.read_csv(\"raw/result_reviews_silver.csv\")"
   ]
  },
  {
   "cell_type": "code",
   "execution_count": null,
   "metadata": {},
   "outputs": [],
   "source": [
    "# validator_reviews_silver.head(15).dtypes"
   ]
  },
  {
   "cell_type": "code",
   "execution_count": null,
   "metadata": {},
   "outputs": [],
   "source": [
    "validator_reviews_silver.expect_column_values_to_be_of_type(\n",
    "    column='listing_id', \n",
    "    type_='float64'\n",
    "    )"
   ]
  },
  {
   "cell_type": "code",
   "execution_count": null,
   "metadata": {},
   "outputs": [],
   "source": [
    "validator_calendar_silver.expect_column_values_to_be_of_type(\n",
    "    column='date', \n",
    "    type_='object'\n",
    "    )"
   ]
  },
  {
   "cell_type": "code",
   "execution_count": null,
   "metadata": {},
   "outputs": [],
   "source": [
    "validator_listing_silver.expect_column_values_to_be_of_type(\n",
    "    column='minimum_minimum_nights', \n",
    "    type_='int64'\n",
    "    )"
   ]
  },
  {
   "cell_type": "code",
   "execution_count": null,
   "metadata": {},
   "outputs": [],
   "source": [
    "validator_listing_silver.save_expectation_suite(discard_failed_expectations=False)\n",
    "validator_reviews_silver.save_expectation_suite(discard_failed_expectations=False)\n",
    "validator_calendar_silver.save_expectation_suite(discard_failed_expectations=False)"
   ]
  },
  {
   "cell_type": "code",
   "execution_count": 55,
   "metadata": {},
   "outputs": [],
   "source": [
    "# checkpoint_calendar_silver = ctx_calendar_silver.add_or_update_checkpoint(\n",
    "#     name=\"primeiro_checkpoint\", validator=validator_calendar_silver)\n",
    "\n",
    "# checkpoint_listing_silver = ctx_listing_silver.add_or_update_checkpoint(\n",
    "#     name=\"primeiro_checkpoint\", validator=validator_listing_silver)\n",
    "\n",
    "# checkpoint_reviews_silver = ctx_reviews_silver.add_or_update_checkpoint(\n",
    "#     name=\"primeiro_checkpoint\", validator=validator_reviews_silver)"
   ]
  },
  {
   "cell_type": "code",
   "execution_count": 58,
   "metadata": {},
   "outputs": [],
   "source": [
    "checkpoint_calendar_silver = gx.checkpoint.SimpleCheckpoint(\n",
    "    name=\"version-01. _calendar_silver\",\n",
    "    data_context=ctx_calendar_silver,\n",
    "    validator=validator_calendar_silver,\n",
    ")\n",
    "\n",
    "checkpoint_listing_silver = gx.checkpoint.SimpleCheckpoint(\n",
    "    name=\"version-01. _listing_silver\",\n",
    "    data_context=ctx_listing_silver,\n",
    "    validator=validator_listing_silver,\n",
    ")\n",
    "\n",
    "checkpoint_reviews_silver = gx.checkpoint.SimpleCheckpoint(\n",
    "    name=\"version-01. _reviews_silver\",\n",
    "    data_context=ctx_reviews_silver,\n",
    "    validator=validator_reviews_silver,\n",
    ")"
   ]
  },
  {
   "cell_type": "code",
   "execution_count": 59,
   "metadata": {},
   "outputs": [
    {
     "data": {
      "application/vnd.jupyter.widget-view+json": {
       "model_id": "18fa1a7eb22d447ba19169b502d762b9",
       "version_major": 2,
       "version_minor": 0
      },
      "text/plain": [
       "Calculating Metrics:   0%|          | 0/1 [00:00<?, ?it/s]"
      ]
     },
     "metadata": {},
     "output_type": "display_data"
    }
   ],
   "source": [
    "checkpoint_result_calendar_silver = checkpoint_calendar_silver.run()"
   ]
  },
  {
   "cell_type": "code",
   "execution_count": 60,
   "metadata": {},
   "outputs": [
    {
     "data": {
      "application/vnd.jupyter.widget-view+json": {
       "model_id": "5915109b240b472eb25a1c412b6d9ebc",
       "version_major": 2,
       "version_minor": 0
      },
      "text/plain": [
       "Calculating Metrics:   0%|          | 0/1 [00:00<?, ?it/s]"
      ]
     },
     "metadata": {},
     "output_type": "display_data"
    }
   ],
   "source": [
    "checkpoint_result_listing_silver = checkpoint_listing_silver.run()"
   ]
  },
  {
   "cell_type": "code",
   "execution_count": 61,
   "metadata": {},
   "outputs": [
    {
     "data": {
      "application/vnd.jupyter.widget-view+json": {
       "model_id": "bab086253b1e4c55bad4627879add63b",
       "version_major": 2,
       "version_minor": 0
      },
      "text/plain": [
       "Calculating Metrics:   0%|          | 0/1 [00:00<?, ?it/s]"
      ]
     },
     "metadata": {},
     "output_type": "display_data"
    }
   ],
   "source": [
    "\n",
    "checkpoint_result_reviews_silve = checkpoint_reviews_silver.run()"
   ]
  },
  {
   "cell_type": "code",
   "execution_count": 62,
   "metadata": {},
   "outputs": [
    {
     "data": {
      "text/plain": [
       "{'local_site': 'file:///var/folders/m1/q4pxknzs0dxgxr5yjswljp840000gn/T/tmpj0lzfalj/index.html'}"
      ]
     },
     "execution_count": 62,
     "metadata": {},
     "output_type": "execute_result"
    }
   ],
   "source": [
    "ctx_calendar_silver.build_data_docs()"
   ]
  },
  {
   "cell_type": "code",
   "execution_count": 63,
   "metadata": {},
   "outputs": [
    {
     "data": {
      "text/plain": [
       "{'local_site': 'file:///var/folders/m1/q4pxknzs0dxgxr5yjswljp840000gn/T/tmp2wx84mf9/index.html'}"
      ]
     },
     "execution_count": 63,
     "metadata": {},
     "output_type": "execute_result"
    }
   ],
   "source": [
    "ctx_listing_silver.build_data_docs()"
   ]
  },
  {
   "cell_type": "code",
   "execution_count": 64,
   "metadata": {},
   "outputs": [
    {
     "data": {
      "text/plain": [
       "{'local_site': 'file:///var/folders/m1/q4pxknzs0dxgxr5yjswljp840000gn/T/tmpoku47fhk/index.html'}"
      ]
     },
     "execution_count": 64,
     "metadata": {},
     "output_type": "execute_result"
    }
   ],
   "source": [
    "ctx_reviews_silver.build_data_docs()\n"
   ]
  }
 ],
 "metadata": {
  "kernelspec": {
   "display_name": "venv",
   "language": "python",
   "name": "python3"
  },
  "language_info": {
   "codemirror_mode": {
    "name": "ipython",
    "version": 3
   },
   "file_extension": ".py",
   "mimetype": "text/x-python",
   "name": "python",
   "nbconvert_exporter": "python",
   "pygments_lexer": "ipython3",
   "version": "3.9.18"
  }
 },
 "nbformat": 4,
 "nbformat_minor": 2
}
