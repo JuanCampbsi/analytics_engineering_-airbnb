{
 "cells": [
  {
   "cell_type": "markdown",
   "metadata": {},
   "source": [
    "### Clean data\n"
   ]
  },
  {
   "cell_type": "code",
   "execution_count": null,
   "metadata": {},
   "outputs": [],
   "source": [
    "import sys\n",
    "sys.path.append(\"../..\")"
   ]
  },
  {
   "cell_type": "code",
   "execution_count": null,
   "metadata": {},
   "outputs": [],
   "source": [
    "import pandas as pd\n",
    "from config.connect_db import ConnectDataBase\n",
    "from sqlalchemy import text as sql_text\n",
    "from ydata_profiling import ProfileReport\n",
    "\n",
    "db = ConnectDataBase()\n",
    "engine = db.engine()"
   ]
  },
  {
   "cell_type": "markdown",
   "metadata": {},
   "source": [
    "### Query\n"
   ]
  },
  {
   "cell_type": "code",
   "execution_count": null,
   "metadata": {},
   "outputs": [],
   "source": [
    "def query_table_dtypes(params: str) -> str:\n",
    "    return f\"\"\"       \n",
    "                SELECT column_name, data_type\n",
    "                FROM information_schema.columns\n",
    "                WHERE table_name = '{params}'\n",
    "                ORDER BY ordinal_position; \n",
    "            \"\"\"\n",
    "\n",
    "\n",
    "df_calendar_tdtypes = pd.read_sql(sql=sql_text(\n",
    "    query_table_dtypes(\"Calendar_Bronze\")), con=engine.connect())\n",
    "df_listing_tdtypes = pd.read_sql(sql=sql_text(\n",
    "    query_table_dtypes(\"Listing_Bronze\")), con=engine.connect())\n",
    "df_reviews_tdtypes = pd.read_sql(sql=sql_text(\n",
    "    query_table_dtypes(\"Reviews_Bronze\")), con=engine.connect())"
   ]
  },
  {
   "cell_type": "code",
   "execution_count": null,
   "metadata": {},
   "outputs": [],
   "source": [
    "def query_table(params: str) -> str:\n",
    "    return f\"\"\"\n",
    "          SELECT * \n",
    "          FROM public.\"{params}\";\n",
    "         \"\"\""
   ]
  },
  {
   "cell_type": "markdown",
   "metadata": {},
   "source": [
    "### Results from bank tables\n"
   ]
  },
  {
   "cell_type": "code",
   "execution_count": null,
   "metadata": {},
   "outputs": [],
   "source": [
    "df_calendar_silver = pd.read_sql(sql=sql_text(\n",
    "    query_table(\"Calendar_Bronze\")), con=engine.connect())"
   ]
  },
  {
   "cell_type": "code",
   "execution_count": null,
   "metadata": {},
   "outputs": [],
   "source": [
    "df_listing_silver = pd.read_sql(sql=sql_text(\n",
    "    query_table(\"Listing_Bronze\")), con=engine.connect())"
   ]
  },
  {
   "cell_type": "code",
   "execution_count": null,
   "metadata": {},
   "outputs": [],
   "source": [
    "df_reviews_silver = pd.read_sql(sql=sql_text(\n",
    "    query_table(\"Reviews_Bronze\")), con=engine.connect())"
   ]
  },
  {
   "cell_type": "markdown",
   "metadata": {},
   "source": [
    "### Copy Dataframe origin\n"
   ]
  },
  {
   "cell_type": "code",
   "execution_count": null,
   "metadata": {},
   "outputs": [],
   "source": [
    "df_listing_silver_cln = df_listing_silver.copy()\n",
    "df_reviews_silver_cln = df_reviews_silver.copy()\n",
    "df_calendar_silver_cln = df_calendar_silver.copy()"
   ]
  },
  {
   "cell_type": "markdown",
   "metadata": {},
   "source": [
    "### DTypes Dataframe\n"
   ]
  },
  {
   "cell_type": "code",
   "execution_count": null,
   "metadata": {},
   "outputs": [],
   "source": [
    "dtypes = pd.DataFrame(df_listing_silver_cln.dtypes)\n",
    "df_half_one = dtypes.head(45)\n",
    "df_half_two = dtypes.iloc[45:]\n",
    "print(\"Primeira parte\")\n",
    "display(df_half_one)\n",
    "print(\"Segunda parte\")\n",
    "display(df_half_two)"
   ]
  },
  {
   "cell_type": "code",
   "execution_count": null,
   "metadata": {},
   "outputs": [],
   "source": [
    "columns_df = pd.DataFrame(df_listing_silver_cln.select_dtypes(\n",
    "    include=['object']).dtypes, columns=['name']).reset_index()\n",
    "\n",
    "columns_df.columns = ['column_name', 'data_type']\n",
    "\n",
    "mask = df_listing_tdtypes['column_name'].isin(columns_df['column_name'])\n",
    "filtered_df = df_listing_tdtypes[mask]\n",
    "mask_text = filtered_df['data_type'] != 'text'\n",
    "filtered_df = filtered_df.loc[mask_text]['column_name'].tolist()\n",
    "\n",
    "list_float = ['price']\n",
    "\n",
    "for column in list_float:\n",
    "    df_listing_silver_cln[column] = df_listing_silver_cln[column].str.replace(\n",
    "        '$', '').str.replace(',', '').astype(float)\n",
    "\n",
    "for column in filtered_df:\n",
    "    df_listing_silver_cln[column] = df_listing_silver_cln[column].astype(\n",
    "        \"float\")\n",
    "\n",
    "\n",
    "dtypes = pd.DataFrame(df_listing_silver_cln.dtypes)\n",
    "df_half_one = dtypes.head(45)\n",
    "df_half_two = dtypes.iloc[45:]\n",
    "print(\"Primeira parte\")\n",
    "display(df_half_one)\n",
    "print(\"Segunda parte\")\n",
    "display(df_half_two)"
   ]
  },
  {
   "cell_type": "code",
   "execution_count": null,
   "metadata": {},
   "outputs": [],
   "source": [
    "dtypes = pd.DataFrame(df_reviews_silver_cln.dtypes)\n",
    "\n",
    "list_datetime = ['date']\n",
    "\n",
    "for column in list_datetime:\n",
    "    df_reviews_silver_cln[column] = pd.to_datetime(\n",
    "        df_reviews_silver_cln[column], format='%Y-%m-%d')\n",
    "\n",
    "dtypes = pd.DataFrame(df_reviews_silver_cln.dtypes)\n",
    "display(dtypes)"
   ]
  },
  {
   "cell_type": "code",
   "execution_count": null,
   "metadata": {},
   "outputs": [],
   "source": [
    "dtypes = pd.DataFrame(df_calendar_silver_cln.dtypes)\n",
    "\n",
    "list_datetime = ['date']\n",
    "list_float = ['price', 'adjusted_price']\n",
    "\n",
    "for column in list_datetime:\n",
    "    df_calendar_silver_cln[column] = pd.to_datetime(\n",
    "        df_calendar_silver_cln[column], format='%Y-%m-%d')\n",
    "\n",
    "for column in list_float:\n",
    "    df_calendar_silver_cln[column] = df_calendar_silver_cln[column].str.replace(\n",
    "        '$', '').str.replace(',', '').astype(float)\n",
    "\n",
    "dtypes = pd.DataFrame(df_calendar_silver_cln.dtypes)\n",
    "display(dtypes)"
   ]
  },
  {
   "cell_type": "markdown",
   "metadata": {},
   "source": [
    "### Replace columns\n"
   ]
  },
  {
   "cell_type": "code",
   "execution_count": null,
   "metadata": {},
   "outputs": [],
   "source": [
    "df_listing_silver_cln.columns = df_listing_silver_cln.columns.str.replace(\n",
    "    r'\\W', '_', regex=True)\n",
    "df_reviews_silver_cln.columns = df_reviews_silver_cln.columns.str.replace(\n",
    "    r'\\W', '_', regex=True)\n",
    "df_calendar_silver_cln.columns = df_calendar_silver_cln.columns.str.replace(\n",
    "    r'\\W', '_', regex=True)"
   ]
  },
  {
   "cell_type": "markdown",
   "metadata": {},
   "source": [
    "### Handling null values\n"
   ]
  },
  {
   "cell_type": "code",
   "execution_count": null,
   "metadata": {},
   "outputs": [],
   "source": [
    "def check_missing(df):\n",
    "    res_missing = df.isna().sum()\n",
    "    res_missing = (res_missing/len(df))*100\n",
    "    return res_missing[res_missing > 0]"
   ]
  },
  {
   "cell_type": "code",
   "execution_count": null,
   "metadata": {},
   "outputs": [],
   "source": [
    "print(\"Valores null antes\")\n",
    "display(pd.DataFrame(check_missing(\n",
    "    df_listing_silver_cln).sort_values(ascending=False)))\n",
    "\n",
    "colums_filnan = pd.DataFrame(check_missing(\n",
    "    df_listing_silver_cln).sort_values(ascending=False), columns=['name']).reset_index()\n",
    "colums_filnan.columns = ['column_name', 'percentage']\n",
    "\n",
    "columns_listing_silver_cln = colums_filnan['column_name'].to_list()\n",
    "\n",
    "df_listing_silver_cln[columns_listing_silver_cln] = df_listing_silver_cln[columns_listing_silver_cln].fillna(\n",
    "    \"no_info\")\n",
    "\n",
    "print(\"Valores null depois\")\n",
    "display(pd.DataFrame(check_missing(\n",
    "    df_listing_silver_cln).sort_values(ascending=False)))"
   ]
  },
  {
   "cell_type": "code",
   "execution_count": null,
   "metadata": {},
   "outputs": [],
   "source": [
    "print(\"Valores null antes\")\n",
    "display(pd.DataFrame(check_missing(\n",
    "    df_reviews_silver_cln).sort_values(ascending=False)))\n",
    "\n",
    "colums_filnan = pd.DataFrame(check_missing(\n",
    "    df_reviews_silver_cln).sort_values(ascending=False), columns=['name']).reset_index()\n",
    "colums_filnan.columns = ['column_name', 'percentage']\n",
    "\n",
    "columns_reviews_silver_cln = colums_filnan['column_name'].to_list()\n",
    "\n",
    "df_reviews_silver_cln[columns_reviews_silver_cln] = df_reviews_silver_cln[columns_reviews_silver_cln].fillna(\n",
    "    \"no_info\")\n",
    "\n",
    "print(\"Valores null depois\")\n",
    "display(pd.DataFrame(check_missing(\n",
    "    df_reviews_silver_cln).sort_values(ascending=False)))"
   ]
  },
  {
   "cell_type": "code",
   "execution_count": null,
   "metadata": {},
   "outputs": [],
   "source": [
    "print(\"Valores null antes\")\n",
    "display(pd.DataFrame(check_missing(\n",
    "    df_calendar_silver_cln).sort_values(ascending=False)))\n",
    "\n",
    "colums_filnan = pd.DataFrame(check_missing(\n",
    "    df_calendar_silver_cln).sort_values(ascending=False), columns=['name']).reset_index()\n",
    "colums_filnan.columns = ['column_name', 'percentage']\n",
    "\n",
    "columns_calendar_silver_cln = colums_filnan['column_name'].to_list()\n",
    "\n",
    "df_calendar_silver_cln[columns_calendar_silver_cln] = df_calendar_silver_cln[columns_calendar_silver_cln].fillna(\n",
    "    \"no_info\")\n",
    "\n",
    "print(\"Valores null depois\")\n",
    "display(pd.DataFrame(check_missing(\n",
    "    df_calendar_silver_cln).sort_values(ascending=False)))"
   ]
  },
  {
   "cell_type": "markdown",
   "metadata": {},
   "source": [
    "### Drop duplicateds\n"
   ]
  },
  {
   "cell_type": "code",
   "execution_count": null,
   "metadata": {},
   "outputs": [],
   "source": [
    "print(\"N. de linhas da tabela listing antes de remover duplicadas:\",\n",
    "      len(df_listing_silver_cln))\n",
    "df_listing_silver_cln = df_listing_silver_cln.drop_duplicates()\n",
    "print(\"N. de linhas da tabela listing depois de remover duplicadas:\",\n",
    "      len(df_listing_silver_cln))"
   ]
  },
  {
   "cell_type": "code",
   "execution_count": null,
   "metadata": {},
   "outputs": [],
   "source": [
    "print(\"N. de linhas da tabela reviews antes de remover duplicadas:\",\n",
    "      len(df_reviews_silver_cln))\n",
    "df_reviews_silver_cln = df_reviews_silver_cln.drop_duplicates()\n",
    "print(\"N. de linhas da tabela reviews depois de remover duplicadas:\",\n",
    "      len(df_reviews_silver_cln))"
   ]
  },
  {
   "cell_type": "code",
   "execution_count": null,
   "metadata": {},
   "outputs": [],
   "source": [
    "print(\"N. de linhas da tabela calendar antes de remover duplicadas:\",\n",
    "      len(df_calendar_silver_cln))\n",
    "df_calendar_silver_cln = df_calendar_silver_cln.drop_duplicates()\n",
    "print(\"N. de linhas da tabela calendar depois de remover duplicadas:\",\n",
    "      len(df_calendar_silver_cln))"
   ]
  },
  {
   "cell_type": "markdown",
   "metadata": {},
   "source": [
    "### Removing special characters\n"
   ]
  },
  {
   "cell_type": "code",
   "execution_count": null,
   "metadata": {},
   "outputs": [],
   "source": [
    "pattern = r'<[^>]+>'\n",
    "df_listing_silver_cln['description'] = df_listing_silver_cln['description'].str.replace(\n",
    "    pattern, '', regex=True)\n",
    "\n",
    "\n",
    "df_listing_silver_cln['description'] = df_listing_silver_cln['description'].str.strip(\n",
    ").str.lower().str.replace('[^a-z\\s]', '', regex=True)"
   ]
  },
  {
   "cell_type": "markdown",
   "metadata": {},
   "source": [
    "### Eliminating extremely unbalanced speakers\n"
   ]
  },
  {
   "cell_type": "code",
   "execution_count": null,
   "metadata": {},
   "outputs": [],
   "source": [
    "df_listing_silver_cln['maximum_nights'].value_counts(normalize=True)"
   ]
  },
  {
   "cell_type": "code",
   "execution_count": null,
   "metadata": {},
   "outputs": [],
   "source": [
    "df_listing_silver_cln['maximum_nights'].value_counts(normalize=True).values[0]"
   ]
  },
  {
   "cell_type": "code",
   "execution_count": null,
   "metadata": {},
   "outputs": [],
   "source": [
    "list_imbalance = []\n",
    "limit = 0.98\n",
    "for col in df_listing_silver_cln.columns:\n",
    "    perc = df_listing_silver_cln[col].value_counts(normalize=True).values[0]\n",
    "    if perc > limit:\n",
    "        list_imbalance.append(col)\n",
    "        print(col, perc)"
   ]
  },
  {
   "cell_type": "code",
   "execution_count": null,
   "metadata": {},
   "outputs": [],
   "source": [
    "df_listing_silver_cln = df_listing_silver_cln.drop(list_imbalance, axis=1)"
   ]
  },
  {
   "cell_type": "code",
   "execution_count": null,
   "metadata": {},
   "outputs": [],
   "source": [
    "list_imbalance = []\n",
    "limit = 0.98\n",
    "for col in df_listing_silver_cln.columns:\n",
    "    perc = df_listing_silver_cln[col].value_counts(normalize=True).values[0]\n",
    "    if perc > limit:\n",
    "        list_imbalance.append(col)\n",
    "        print(col, perc)"
   ]
  },
  {
   "cell_type": "markdown",
   "metadata": {},
   "source": [
    "### Checking data accuracy\n"
   ]
  },
  {
   "cell_type": "code",
   "execution_count": null,
   "metadata": {},
   "outputs": [],
   "source": [
    "df_listing_silver_cln = df_listing_silver_cln[df_listing_silver_cln['price'] > 0]"
   ]
  },
  {
   "cell_type": "code",
   "execution_count": null,
   "metadata": {},
   "outputs": [],
   "source": [
    "df_listing_silver_cln.describe()"
   ]
  },
  {
   "cell_type": "markdown",
   "metadata": {},
   "source": [
    "### Outliers\n"
   ]
  },
  {
   "cell_type": "code",
   "execution_count": null,
   "metadata": {},
   "outputs": [],
   "source": [
    "# valor do quantil de 2% a esquerda\n",
    "df_listing_silver_cln[['price', 'maximum_nights']].quantile(.02)"
   ]
  },
  {
   "cell_type": "code",
   "execution_count": null,
   "metadata": {},
   "outputs": [],
   "source": [
    "# valor do quantil de 2% a direita\n",
    "df_listing_silver_cln[['price', 'maximum_nights']].quantile(.98)"
   ]
  },
  {
   "cell_type": "code",
   "execution_count": null,
   "metadata": {},
   "outputs": [],
   "source": [
    "print(\"Quantidade de linhas antes de eliminar os outliers:\",\n",
    "      len(df_listing_silver_cln))\n",
    "# colunas para considerar a eliminação de outliers\n",
    "list_quantile = ['price', 'maximum_nights']\n",
    "df_aux = df_listing_silver_cln.copy()\n",
    "for col in list_quantile:\n",
    "    low_limit = df_aux[col].quantile(.02)  # valor do quantil de 2% a esquerda\n",
    "    high_limit = df_aux[col].quantile(.98)  # valor do quantil de 2% a direita\n",
    "    df_listing_silver_cln = df_listing_silver_cln[(df_listing_silver_cln[col] > low_limit) & (\n",
    "        df_listing_silver_cln[col] < high_limit)]  # filtra a partir do quantil\n",
    "\n",
    "print(\"Quantidade de linhas depois de eliminar os outliers:\",\n",
    "      len(df_listing_silver_cln))"
   ]
  },
  {
   "cell_type": "code",
   "execution_count": null,
   "metadata": {},
   "outputs": [],
   "source": [
    "df_listing_silver_cln.describe()"
   ]
  },
  {
   "cell_type": "markdown",
   "metadata": {},
   "source": [
    "### Saving dataframe in silver table\n"
   ]
  },
  {
   "cell_type": "code",
   "execution_count": null,
   "metadata": {},
   "outputs": [],
   "source": [
    "df_listing_silver_cln.to_sql(\n",
    "    'Listing_Silver', engine, if_exists='replace', index=False)"
   ]
  },
  {
   "cell_type": "code",
   "execution_count": null,
   "metadata": {},
   "outputs": [],
   "source": [
    "df_reviews_silver_cln.to_sql(\n",
    "    'Reviews_Silver', engine, if_exists='replace', index=False)"
   ]
  },
  {
   "cell_type": "code",
   "execution_count": null,
   "metadata": {},
   "outputs": [],
   "source": [
    "df_calendar_silver_cln.to_sql(\n",
    "    'Calendar_Silver', engine, if_exists='replace', index=False)"
   ]
  },
  {
   "cell_type": "markdown",
   "metadata": {},
   "source": [
    "Reports profiles\n"
   ]
  },
  {
   "cell_type": "code",
   "execution_count": null,
   "metadata": {},
   "outputs": [],
   "source": [
    "profile = ProfileReport(\n",
    "    df_listing_silver_cln, title=\"Pandas Profiling Report\")\n",
    "\n",
    "profile.to_file(f\"reports/Listing_Silver.html\")"
   ]
  },
  {
   "cell_type": "code",
   "execution_count": null,
   "metadata": {},
   "outputs": [],
   "source": [
    "profile = ProfileReport(\n",
    "    df_reviews_silver_cln, title=\"Pandas Profiling Report\")\n",
    "\n",
    "profile.to_file(f\"reports/Reviews_Silver.html\")"
   ]
  },
  {
   "cell_type": "code",
   "execution_count": null,
   "metadata": {},
   "outputs": [],
   "source": [
    "profile = ProfileReport(\n",
    "    df_calendar_silver_cln, title=\"Pandas Profiling Report\")\n",
    "\n",
    "profile.to_file(f\"reports/Calendar_Silver.html\")"
   ]
  }
 ],
 "metadata": {
  "kernelspec": {
   "display_name": "venv",
   "language": "python",
   "name": "python3"
  },
  "language_info": {
   "codemirror_mode": {
    "name": "ipython",
    "version": 3
   },
   "file_extension": ".py",
   "mimetype": "text/x-python",
   "name": "python",
   "nbconvert_exporter": "python",
   "pygments_lexer": "ipython3",
   "version": "3.9.18"
  }
 },
 "nbformat": 4,
 "nbformat_minor": 2
}
